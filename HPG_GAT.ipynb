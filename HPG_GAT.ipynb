{
 "cells": [
  {
   "cell_type": "code",
   "execution_count": 2,
   "id": "62068999-3340-4e19-a3d4-d8db77fda8a3",
   "metadata": {},
   "outputs": [
    {
     "name": "stderr",
     "output_type": "stream",
     "text": [
      "Using backend: pytorch\n"
     ]
    }
   ],
   "source": [
    "from src.polyG import *\n",
    "from src.hpggat import *\n",
    "# from src.smiles_utils import *\n",
    "import pickle\n",
    "from torch.utils.data import DataLoader\n",
    "# from rdkit.Chem.Descriptors import ExactMolWt, MolWt\n",
    "from torch_geometric.data import Data, Dataset, InMemoryDataset\n",
    "import torch\n",
    "from dgl import DGLGraph\n",
    "import dgl"
   ]
  },
  {
   "cell_type": "code",
   "execution_count": 17,
   "id": "125c77e0-ce4f-483e-a90d-bc27ff4eca50",
   "metadata": {},
   "outputs": [],
   "source": [
    "processed_df = pd.read_csv(\"data/processed_electrolytes.csv\")\n",
    "polymerG_cache = pickle.load(open('data/polyG.pt', 'rb'))"
   ]
  },
  {
   "cell_type": "code",
   "execution_count": 18,
   "id": "819186b1-668d-450e-9d91-8450ee39c7e2",
   "metadata": {
    "scrolled": true
   },
   "outputs": [
    {
     "name": "stderr",
     "output_type": "stream",
     "text": [
      "/home/ufslab223/anaconda3/envs/ion/lib/python3.7/site-packages/dgl/base.py:45: DGLWarning: Recommend creating graphs by `dgl.graph(data)` instead of `dgl.DGLGraph(data)`.\n",
      "  return warnings.warn(message, category=category, stacklevel=1)\n"
     ]
    }
   ],
   "source": [
    "polymerhiG_cache = dict()\n",
    "for pg in polymerG_cache:\n",
    "    try:\n",
    "        polymerhiG_cache[pg] = pol2hig_mk2(polymerG_cache[pg])\n",
    "    except:\n",
    "        print(pg)"
   ]
  },
  {
   "cell_type": "code",
   "execution_count": 19,
   "id": "9115175b-03ca-480a-b2fa-219b753a03ae",
   "metadata": {},
   "outputs": [],
   "source": [
    "data_list, val_data_list = data_from_df(processed_df, polymerhiG_cache)"
   ]
  },
  {
   "cell_type": "code",
   "execution_count": 20,
   "id": "e392acba-e143-4784-a4f2-e97cfd2793f3",
   "metadata": {},
   "outputs": [],
   "source": [
    "train_loader = DataLoader(data_list, batch_size=128, shuffle=True, collate_fn=collate)\n",
    "val_loader = DataLoader(val_data_list, batch_size=128, shuffle=False, collate_fn=collate)"
   ]
  },
  {
   "cell_type": "code",
   "execution_count": 21,
   "id": "6cb6bd73-1122-4f48-a5f5-891cf6c600fb",
   "metadata": {},
   "outputs": [],
   "source": [
    "model = GATNet()"
   ]
  },
  {
   "cell_type": "markdown",
   "id": "3e58f87f-5968-48a4-8f86-b6f7e6339f9d",
   "metadata": {},
   "source": [
    "# Model Training"
   ]
  },
  {
   "cell_type": "code",
   "execution_count": null,
   "id": "43c254d1-cda2-4a57-934c-1340ae10f98e",
   "metadata": {
    "scrolled": true
   },
    "outputs": [],
   "source": [
    "import tqdm\n",
    "torch.autograd.set_detect_anomaly(True)\n",
    "device = torch.device(\"cuda:1\")\n",
    "optimizer = torch.optim.Adam(model.parameters(), lr=1e-3)\n",
    "model = model.to(device)\n",
    "test_best = 1\n",
    "epoch_losses = []\n",
    "test_losses = []\n",
    "for epoch in tqdm.tqdm(range(1000)):\n",
    "    epoch_loss = 0\n",
    "    test_loss =0\n",
    "    model.train()\n",
    "    for i, (bg, label) in enumerate(train_loader):\n",
    "        bg = [_bg.to(device) for _bg in bg]\n",
    "        label = label.to(device)\n",
    "        pred = model(bg)\n",
    "        loss = nn.L1Loss()(pred, label)\n",
    "        # print(loss)\n",
    "        optimizer.zero_grad()\n",
    "        loss.backward()\n",
    "        optimizer.step()\n",
    "        epoch_loss += loss.detach().item()\n",
    "    epoch_loss /= (i + 1)\n",
    "    model.eval()\n",
    "    for i, (bg, label) in enumerate(val_loader):\n",
    "        \n",
    "        bg = [_bg.to(device) for _bg in bg]\n",
    "        label = label.to(device)\n",
    "        pred = model(bg)\n",
    "        loss = nn.L1Loss()(pred, label)\n",
    "        test_loss += loss.detach().item()\n",
    "        \n",
    "    test_loss /= (i + 1)\n",
    "        \n",
    "    if (epoch+1) % 1 == 0:\n",
    "        print('Epoch {}, loss {:.4f}, val_loss {:4f}'.format(epoch+1, epoch_loss, test_loss))\n",
    "    epoch_losses.append(epoch_loss)\n",
    "    test_losses.append(test_loss)\n",
    "    torch.save(model.state_dict(), f\"model_last.bin\")\n",
    "    if test_loss < test_best:\n",
    "        torch.save(model.state_dict(), f\"model_{epoch}_{test_loss}.bin\")\n",
    "        torch.save(model.state_dict(), f\"model_best.bin\")\n",
    "        test_best = test_loss\n",
    "torch.save(model.state_dict(), f\"model_last.bin\")"
   ]
  },
  {
   "cell_type": "markdown",
   "id": "956486fc-7d7f-4ed7-b09f-3918ae6d1090",
   "metadata": {},
   "source": [
    "# Model Valididataion"
   ]
  },
  {
   "cell_type": "code",
   "execution_count": 22,
   "id": "d16b39ad-0957-4c9d-996a-209c9a119f6a",
   "metadata": {},
   "outputs": [
    {
     "data": {
      "text/plain": [
       "GATNet(\n",
       "  (GAT_list_1): ModuleList(\n",
       "    (0): GAT(\n",
       "      (W_node): Linear(in_features=49, out_features=1024, bias=False)\n",
       "      (W_edge): Linear(in_features=1, out_features=8, bias=False)\n",
       "    )\n",
       "    (1): GAT(\n",
       "      (W_node): Linear(in_features=128, out_features=1024, bias=False)\n",
       "      (W_edge): Linear(in_features=1, out_features=8, bias=False)\n",
       "    )\n",
       "    (2): GAT(\n",
       "      (W_node): Linear(in_features=128, out_features=1024, bias=False)\n",
       "      (W_edge): Linear(in_features=1, out_features=8, bias=False)\n",
       "    )\n",
       "    (3): GAT(\n",
       "      (W_node): Linear(in_features=128, out_features=1024, bias=False)\n",
       "      (W_edge): Linear(in_features=1, out_features=8, bias=False)\n",
       "    )\n",
       "    (4): GAT(\n",
       "      (W_node): Linear(in_features=128, out_features=1024, bias=False)\n",
       "      (W_edge): Linear(in_features=1, out_features=8, bias=False)\n",
       "    )\n",
       "    (5): GAT(\n",
       "      (W_node): Linear(in_features=128, out_features=1024, bias=False)\n",
       "      (W_edge): Linear(in_features=1, out_features=8, bias=False)\n",
       "    )\n",
       "  )\n",
       "  (linear_g1): Linear(in_features=128, out_features=64, bias=True)\n",
       "  (dropout): Dropout(p=0, inplace=False)\n",
       "  (linear_ratio): Linear(in_features=6, out_features=6, bias=True)\n",
       "  (linear_temp): Linear(in_features=1, out_features=16, bias=True)\n",
       "  (linear1): Linear(in_features=406, out_features=512, bias=True)\n",
       "  (linear2): Linear(in_features=512, out_features=1, bias=True)\n",
       "  (dropout_pred): Dropout(p=0.2, inplace=False)\n",
       ")"
      ]
     },
     "execution_count": 22,
     "metadata": {},
     "output_type": "execute_result"
    }
   ],
   "source": [
    "model.load_state_dict(torch.load(\n",
    "        \"ckpt/HPG_GAT.bin\", map_location=torch.device   ('cpu')))\n",
    "model.eval()"
   ]
  },
  {
   "cell_type": "code",
   "execution_count": 23,
   "id": "0820df7a-1336-4eff-82d2-47ea2dc3fd60",
   "metadata": {},
   "outputs": [],
   "source": [
    "train_loader = DataLoader(data_list, batch_size=128, shuffle=False, collate_fn=collate)\n",
    "val_loader = DataLoader(val_data_list, batch_size=128, shuffle=False, collate_fn=collate)"
   ]
  },
  {
   "cell_type": "code",
   "execution_count": 24,
   "id": "c06a42d8-f1cc-4845-ad70-b99cbce2cb7d",
   "metadata": {},
   "outputs": [],
   "source": [
    "pred_list=list()\n",
    "prop_list=list()\n",
    "val_pred_list=list()\n",
    "val_prop_list=list()\n",
    "device = \"cuda:0\"\n",
    "model = model.to(device)\n",
    "for i, (bg, label) in enumerate(train_loader):\n",
    "    bg = [_bg.to(device) for _bg in bg]\n",
    "    label = label.to(device)\n",
    "    pred = model(bg)\n",
    "    prop_list.extend(label.cpu().numpy())\n",
    "    pred_list.extend(pred.detach().cpu().numpy())\n",
    "for i, (bg, label) in enumerate(val_loader):\n",
    "    bg = [_bg.to(device) for _bg in bg]\n",
    "    label = label.to(device)\n",
    "    pred = model(bg)\n",
    "    val_prop_list.extend(label.cpu().numpy())\n",
    "    val_pred_list.extend(pred.detach().cpu().numpy())"
   ]
  },
  {
   "cell_type": "code",
   "execution_count": 25,
   "id": "3c18596a-6ba6-4400-b429-d0fddaa373ae",
   "metadata": {},
   "outputs": [],
   "source": [
    "prop_list = np.array(prop_list)*1.836202-3.981499\n",
    "pred_list = np.array(pred_list)*1.836202-3.981499\n",
    "val_prop_list = np.array(val_prop_list)*1.836202-3.981499\n",
    "val_pred_list = np.array(val_pred_list)*1.836202-3.981499"
   ]
  },
  {
   "cell_type": "code",
   "execution_count": 26,
   "id": "4ad9b74c-6158-461b-b764-3c2b1b9f4a0a",
   "metadata": {},
   "outputs": [
    {
     "name": "stdout",
     "output_type": "stream",
     "text": [
      "MAE: 0.16, R2: 0.978\n",
      "MAE: 0.235, R2: 0.876\n"
     ]
    },
    {
     "data": {
      "image/png": "[encoded data removed]",
      "text/plain": [
       "<Figure size 640x480 with 1 Axes>"
      ]
     },
     "metadata": {},
     "output_type": "display_data"
    }
   ],
   "source": [
    "from sklearn.metrics import mean_absolute_error, r2_score\n",
    "from sklearn import metrics\n",
    "ax = plt\n",
    "\n",
    "ax.scatter(prop_list, pred_list, s=1, c='black')\n",
    "ax.scatter(val_prop_list, val_pred_list, s=3,c='red')\n",
    "plt.xlim(-14, -1)\n",
    "plt.ylim(-14, -1)\n",
    "ax.plot((-14, 0), (-14, 0), c=\"black\", linewidth=1)\n",
    "\n",
    "train_mae = mean_absolute_error(prop_list,pred_list)\n",
    "test_mae = mean_absolute_error(val_prop_list, val_pred_list)\n",
    "train_r2 = r2_score(prop_list,pred_list)\n",
    "test_r2 = r2_score(val_prop_list, val_pred_list)\n",
    "print(f\"MAE: {train_mae:.2f}, R2: {train_r2:.3f}\")\n",
    "print(f\"MAE: {test_mae:.3f}, R2: {test_r2:.3f}\")\n"
   ]
  },
  {
   "cell_type": "code",
   "execution_count": null,
   "id": "096ab396-de95-49f0-8c24-6b8d80bdc538",
   "metadata": {},
   "outputs": [],
   "source": []
  }
 ],
 "metadata": {
  "kernelspec": {
   "display_name": "ion",
   "language": "python",
   "name": "ion"
  },
  "language_info": {
   "codemirror_mode": {
    "name": "ipython",
    "version": 3
   },
   "file_extension": ".py",
   "mimetype": "text/x-python",
   "name": "python",
   "nbconvert_exporter": "python",
   "pygments_lexer": "ipython3",
   "version": "3.7.9"
  }
 },
 "nbformat": 4,
 "nbformat_minor": 5
}
