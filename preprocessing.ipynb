{
 "cells": [
  {
   "cell_type": "markdown",
   "id": "9da93197-ce4c-48a0-b80b-45c1fa732e9f",
   "metadata": {},
   "source": [
    "# Converting hierarchical polymer graph"
   ]
  },
  {
   "cell_type": "code",
   "execution_count": 1,
   "id": "d66af741-f873-4be2-9ce1-d624249e2e71",
   "metadata": {},
   "outputs": [],
   "source": [
    "from src.polyG import *"
   ]
  },
  {
   "cell_type": "code",
   "execution_count": 2,
   "id": "dc8669be-7ead-40f9-b0c1-5c94ec440fe6",
   "metadata": {},
   "outputs": [
    {
     "name": "stdout",
     "output_type": "stream",
     "text": [
      "FC([H])(C[H])F\n",
      "66.028106568\n",
      "self loop 1 166596.0\n",
      "PDI is ?\n",
      "MW is 11000018.441802528\n"
     ]
    }
   ],
   "source": [
    "pvdf = Fragment.get_fragment(\"pvdf\", \"FC([R])(C[Q])F\")\n",
    "\n",
    "PVDF = PolymerGraph(\n",
    "    \"PVDF\", # name\n",
    "    [Node(pvdf, {\"R\": (\"pvdf.Q\", 166596)})], # node\n",
    "    mol_ratio=True\n",
    ")"
   ]
  },
  {
   "cell_type": "code",
   "execution_count": 5,
   "id": "67394426-aabf-4a6a-8751-0971c08bccf3",
   "metadata": {},
   "outputs": [],
   "source": [
    "import pickle\n",
    "with open(\"polyG.pt\", 'wb') as f:\n",
    "    pickle.dump(polymerG_cache, f)"
   ]
  },
  {
   "cell_type": "code",
   "execution_count": 6,
   "id": "b68bfa9b-c8d3-429e-879d-7750d4235182",
   "metadata": {},
   "outputs": [],
   "source": [
    "import pickle\n",
    "polymerG_cache = pickle.load(open('polyG.pt', 'rb'))"
   ]
  },
  {
   "cell_type": "code",
   "execution_count": null,
   "id": "59c55cf0-8929-45d7-89e5-6051bd32dda6",
   "metadata": {},
   "outputs": [],
   "source": []
  }
 ],
 "metadata": {
  "kernelspec": {
   "display_name": "ion",
   "language": "python",
   "name": "ion"
  },
  "language_info": {
   "codemirror_mode": {
    "name": "ipython",
    "version": 3
   },
   "file_extension": ".py",
   "mimetype": "text/x-python",
   "name": "python",
   "nbconvert_exporter": "python",
   "pygments_lexer": "ipython3",
   "version": "3.7.9"
  }
 },
 "nbformat": 4,
 "nbformat_minor": 5
}
